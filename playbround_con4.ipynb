{
 "cells": [
  {
   "cell_type": "code",
   "execution_count": 39,
   "metadata": {},
   "outputs": [
    {
     "name": "stdout",
     "output_type": "stream",
     "text": [
      "The autoreload extension is already loaded. To reload it, use:\n",
      "  %reload_ext autoreload\n"
     ]
    }
   ],
   "source": [
    "import random\n",
    "import itertools\n",
    "import numpy as np\n",
    "from player import Player\n",
    "from manual import Manual\n",
    "from minimax import MiniMax\n",
    "from strategy import Strategy\n",
    "from datetime import datetime\n",
    "from connect4 import WorldCon4\n",
    "from utility import odd_or_even\n",
    "from utility import print_debug\n",
    "from tic_tac_toe import WorldTTT\n",
    "from q_learning import TabQLearning\n",
    "from utility import list_to_tuple_2d\n",
    "from utility import get_row_col_diags\n",
    "from utility import get_opposite_symbol\n",
    "from utility import get_random_num_board\n",
    "from utility import int2board, board2int\n",
    "\n",
    "%load_ext autoreload\n",
    "%autoreload 2"
   ]
  },
  {
   "cell_type": "code",
   "execution_count": 15,
   "metadata": {},
   "outputs": [],
   "source": [
    "board_con4_rand = get_random_num_board(board_size=(6, 7))\n",
    "board_ttt_rand = get_random_num_board(board_size=(3, 3))"
   ]
  },
  {
   "cell_type": "code",
   "execution_count": 16,
   "metadata": {},
   "outputs": [
    {
     "data": {
      "text/plain": [
       "array([[ 1,  1,  1,  1, -1,  1, -1],\n",
       "       [ 1,  1,  1, -1, -1,  1, -1],\n",
       "       [ 1,  1,  0, -1, -1,  0,  0],\n",
       "       [ 1, -1,  0,  1,  1, -1, -1],\n",
       "       [ 1,  1, -1,  1,  1, -1, -1],\n",
       "       [-1,  0,  0, -1,  1, -1,  0]])"
      ]
     },
     "execution_count": 16,
     "metadata": {},
     "output_type": "execute_result"
    }
   ],
   "source": [
    "board_con4_rand"
   ]
  },
  {
   "cell_type": "code",
   "execution_count": 89,
   "metadata": {},
   "outputs": [],
   "source": []
  },
  {
   "cell_type": "code",
   "execution_count": 27,
   "metadata": {},
   "outputs": [],
   "source": [
    "con4 = WorldCon4()"
   ]
  },
  {
   "cell_type": "code",
   "execution_count": 85,
   "metadata": {},
   "outputs": [
    {
     "data": {
      "text/plain": [
       "array([[-1, -1, -1, -1, -1, -1, -1],\n",
       "       [-1, -1, -1, -1, -1, -1, -1],\n",
       "       [-1, -1, -1,  1, -1, -1, -1],\n",
       "       [-1, -1,  0,  0, -1, -1, -1],\n",
       "       [ 0,  0,  0,  1,  1,  1, -1],\n",
       "       [ 0,  1,  1,  1,  0,  0,  1]])"
      ]
     },
     "execution_count": 85,
     "metadata": {},
     "output_type": "execute_result"
    }
   ],
   "source": [
    "board_test = np.array([\n",
    "    [-1, -1, -1, -1, -1, -1, -1],\n",
    "    [-1, -1, -1, -1, -1, -1, -1],\n",
    "    [-1, -1, -1,  1, -1, -1, -1],\n",
    "    [-1, -1,  0,  0, -1, -1, -1],\n",
    "    [ 0,  0,  0,  1,  1,  1, -1],\n",
    "    [ 0,  1,  1,  1,  0,  0,  1],\n",
    "])\n",
    "board_test_int = board2int(board_test)\n",
    "is_my_turn_next = False\n",
    "int2board(board_test_int)"
   ]
  },
  {
   "cell_type": "code",
   "execution_count": 87,
   "metadata": {},
   "outputs": [
    {
     "data": {
      "text/plain": [
       "({'diag': {}}, {'diag': {2: [((4, 5), (5, 6), True)]}})"
      ]
     },
     "execution_count": 87,
     "metadata": {},
     "output_type": "execute_result"
    }
   ],
   "source": [
    "con4.compute_sbsa(\n",
    "    num_board = board_test,\n",
    "    row_idx = 2,\n",
    "    col_idx = 3,\n",
    "    directions = ['diag']\n",
    ")"
   ]
  },
  {
   "cell_type": "code",
   "execution_count": 88,
   "metadata": {},
   "outputs": [
    {
     "name": "stdout",
     "output_type": "stream",
     "text": [
      "[DEBUG] sbsa_0 = {3: [((3, 2), (5, 0), False, 'antidiag'), ((4, 0), (4, 2), False, 'row')], 2: [((3, 2), (3, 3), True, 'row'), ((3, 3), (4, 2), False, 'antidiag'), ((5, 4), (5, 5), False, 'row'), ((4, 0), (5, 0), True, 'col'), ((3, 2), (4, 2), True, 'col')]}\n",
      "[DEBUG] sbsa_1 = {2: [((4, 5), (5, 6), True, 'diag'), ((4, 3), (5, 2), True, 'antidiag'), ((4, 4), (5, 3), True, 'antidiag'), ((4, 3), (5, 3), False, 'col')], 3: [((4, 3), (4, 5), True, 'row'), ((5, 1), (5, 3), False, 'row')]}\n"
     ]
    },
    {
     "data": {
      "text/plain": [
       "20"
      ]
     },
     "execution_count": 88,
     "metadata": {},
     "output_type": "execute_result"
    }
   ],
   "source": [
    "state_eval(con4, board_test_int, is_my_turn_next)"
   ]
  }
 ],
 "metadata": {
  "kernelspec": {
   "display_name": "tttcon4",
   "language": "python",
   "name": "python3"
  },
  "language_info": {
   "codemirror_mode": {
    "name": "ipython",
    "version": 3
   },
   "file_extension": ".py",
   "mimetype": "text/x-python",
   "name": "python",
   "nbconvert_exporter": "python",
   "pygments_lexer": "ipython3",
   "version": "3.12.2"
  }
 },
 "nbformat": 4,
 "nbformat_minor": 2
}
