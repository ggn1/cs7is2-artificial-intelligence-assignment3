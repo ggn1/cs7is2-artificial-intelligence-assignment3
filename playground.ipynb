{
 "cells": [
  {
   "cell_type": "markdown",
   "metadata": {},
   "source": [
    "# Playground"
   ]
  },
  {
   "cell_type": "markdown",
   "metadata": {},
   "source": [
    "This is a space for experimentation."
   ]
  },
  {
   "cell_type": "code",
   "execution_count": 1,
   "metadata": {},
   "outputs": [],
   "source": [
    "import random\n",
    "import itertools\n",
    "import numpy as np\n",
    "from player import Player\n",
    "from manual import Manual\n",
    "from strategy import Strategy\n",
    "from datetime import datetime\n",
    "from tic_tac_toe import WorldTTT\n",
    "from utility import list_to_tuple_2d\n",
    "from utility import get_opposite_symbol\n",
    "\n",
    "%load_ext autoreload\n",
    "%autoreload 2"
   ]
  },
  {
   "cell_type": "code",
   "execution_count": 2,
   "metadata": {},
   "outputs": [],
   "source": [
    "world_ttt = WorldTTT()"
   ]
  },
  {
   "cell_type": "code",
   "execution_count": 3,
   "metadata": {},
   "outputs": [],
   "source": [
    "strategy_default = Strategy(actions=world_ttt.actions)"
   ]
  },
  {
   "cell_type": "code",
   "execution_count": 11,
   "metadata": {},
   "outputs": [
    {
     "name": "stdout",
     "output_type": "stream",
     "text": [
      "[DEBUG] pos = [-1, -1]\n",
      "action_idx = 2\n",
      "action = (0, 2)\n"
     ]
    }
   ],
   "source": [
    "s = list_to_tuple_2d([\n",
    "    ['X', 'O', '#'],\n",
    "    ['O', 'X', 'X'],\n",
    "    ['X', '#', 'O']\n",
    "])\n",
    "\n",
    "action_idx = strategy_default.get_move(s, 'O')['f_out']\n",
    "print('action_idx =',  action_idx)\n",
    "action = world_ttt.actions[action_idx]\n",
    "print('action =', action)"
   ]
  }
 ],
 "metadata": {
  "kernelspec": {
   "display_name": "tttcon4",
   "language": "python",
   "name": "python3"
  },
  "language_info": {
   "codemirror_mode": {
    "name": "ipython",
    "version": 3
   },
   "file_extension": ".py",
   "mimetype": "text/x-python",
   "name": "python",
   "nbconvert_exporter": "python",
   "pygments_lexer": "ipython3",
   "version": "3.12.2"
  }
 },
 "nbformat": 4,
 "nbformat_minor": 2
}
