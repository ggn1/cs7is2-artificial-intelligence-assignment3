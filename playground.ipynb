{
 "cells": [
  {
   "cell_type": "markdown",
   "metadata": {},
   "source": [
    "# Playground"
   ]
  },
  {
   "cell_type": "markdown",
   "metadata": {},
   "source": [
    "This is a space for experimentation."
   ]
  },
  {
   "cell_type": "code",
   "execution_count": 44,
   "metadata": {},
   "outputs": [
    {
     "name": "stdout",
     "output_type": "stream",
     "text": [
      "The autoreload extension is already loaded. To reload it, use:\n",
      "  %reload_ext autoreload\n"
     ]
    }
   ],
   "source": [
    "import random\n",
    "import itertools\n",
    "import numpy as np\n",
    "from player import Player\n",
    "from manual import Manual\n",
    "from minimax import MiniMax\n",
    "from strategy import Strategy\n",
    "from datetime import datetime\n",
    "from tic_tac_toe import WorldTTT\n",
    "from utility import list_to_tuple_2d\n",
    "from utility import get_opposite_symbol\n",
    "\n",
    "%load_ext autoreload\n",
    "%autoreload 2"
   ]
  },
  {
   "cell_type": "code",
   "execution_count": 45,
   "metadata": {},
   "outputs": [],
   "source": [
    "s = list_to_tuple_2d([\n",
    "    ['O', '#', '#'],\n",
    "    ['#', 'X', '#'],\n",
    "    ['X', '#', '#']\n",
    "])"
   ]
  },
  {
   "cell_type": "code",
   "execution_count": 46,
   "metadata": {},
   "outputs": [],
   "source": [
    "world_ttt = WorldTTT()"
   ]
  },
  {
   "cell_type": "code",
   "execution_count": 21,
   "metadata": {},
   "outputs": [
    {
     "data": {
      "text/plain": [
       "1.0"
      ]
     },
     "execution_count": 21,
     "metadata": {},
     "output_type": "execute_result"
    }
   ],
   "source": [
    "world_ttt.state_eval(s, 'O', True)"
   ]
  },
  {
   "cell_type": "code",
   "execution_count": 47,
   "metadata": {},
   "outputs": [],
   "source": [
    "strategy_minimax = MiniMax(\n",
    "    is_game_over=world_ttt.is_game_over,\n",
    "    state_eval=world_ttt.state_eval,\n",
    "    get_next_states=world_ttt.get_next_states,\n",
    "    actions=world_ttt.actions,\n",
    "    alpha_beta=True\n",
    ")"
   ]
  },
  {
   "cell_type": "code",
   "execution_count": 48,
   "metadata": {},
   "outputs": [
    {
     "name": "stdout",
     "output_type": "stream",
     "text": [
      "[DEBUG] alpha_beta = [-inf, inf]\n",
      "[DEBUG] alpha_beta = [-inf, inf]\n",
      "[DEBUG] alpha_beta = [-inf, inf]\n",
      "[DEBUG] alpha_beta = [-inf, -10.0]\n",
      "[DEBUG] alpha_beta = [-inf, -10.0]\n",
      "[DEBUG] alpha_beta = [-inf, -10.0]\n",
      "[DEBUG] alpha_beta = [-inf, -10.0]\n",
      "[DEBUG] alpha_beta = [-inf, -10.0]\n",
      "[DEBUG] alpha_beta = [-inf, -10.0]\n",
      "[DEBUG] alpha_beta = [-inf, -10.0]\n",
      "[DEBUG] alpha_beta = [-inf, -10.0]\n",
      "[DEBUG] alpha_beta = [-10.0, inf]\n",
      "[DEBUG] alpha_beta = [-10.0, inf]\n",
      "[DEBUG] alpha_beta = [-10.0, inf]\n",
      "[DEBUG] alpha_beta = [-10.0, inf]\n",
      "[DEBUG] alpha_beta = [-10.0, inf]\n",
      "[DEBUG] alpha_beta = [-10.0, inf]\n",
      "[DEBUG] alpha_beta = [0.0, inf]\n",
      "[DEBUG] alpha_beta = [0.0, inf]\n",
      "[DEBUG] alpha_beta = [-10.0, 0.0]\n",
      "[DEBUG] alpha_beta = [-10.0, inf]\n",
      "[DEBUG] alpha_beta = [-10.0, inf]\n",
      "[DEBUG] alpha_beta = [-10.0, inf]\n",
      "[DEBUG] alpha_beta = [-10.0, inf]\n",
      "[DEBUG] alpha_beta = [0.0, inf]\n",
      "[DEBUG] alpha_beta = [-10.0, 10.0]\n",
      "[DEBUG] alpha_beta = [-10.0, inf]\n",
      "[DEBUG] alpha_beta = [-10.0, inf]\n",
      "[DEBUG] alpha_beta = [-10.0, inf]\n",
      "[DEBUG] alpha_beta = [-10.0, inf]\n",
      "[DEBUG] alpha_beta = [0.0, inf]\n",
      "[DEBUG] alpha_beta = [0.0, inf]\n",
      "[DEBUG] alpha_beta = [-10.0, 0.0]\n",
      "[DEBUG] alpha_beta = [-10.0, 0.0]\n",
      "[DEBUG] alpha_beta = [-10.0, 0.0]\n",
      "[DEBUG] alpha_beta = [-10.0, 0.0]\n",
      "[DEBUG] alpha_beta = [-10.0, 0.0]\n",
      "[DEBUG] alpha_beta = [-10.0, 0.0]\n",
      "[DEBUG] alpha_beta = [0.0, inf]\n",
      "[DEBUG] alpha_beta = [0.0, inf]\n",
      "[DEBUG] alpha_beta = [0.0, inf]\n",
      "[DEBUG] alpha_beta = [10.0, inf]\n",
      "[DEBUG] alpha_beta = [10.0, inf]\n",
      "[DEBUG] alpha_beta = [0.0, 10.0]\n",
      "[DEBUG] alpha_beta = [0.0, 10.0]\n",
      "[DEBUG] alpha_beta = [0.0, 10.0]\n",
      "[DEBUG] alpha_beta = [0.0, 10.0]\n",
      "[DEBUG] alpha_beta = [0.0, 10.0]\n",
      "[DEBUG] alpha_beta = [-10.0, 0.0]\n",
      "[DEBUG] alpha_beta = [-10.0, 0.0]\n",
      "[DEBUG] alpha_beta = [-10.0, 0.0]\n",
      "[DEBUG] alpha_beta = [-10.0, 0.0]\n",
      "[DEBUG] alpha_beta = [-10.0, 0.0]\n",
      "[DEBUG] alpha_beta = [-10.0, 0.0]\n",
      "[DEBUG] alpha_beta = [-10.0, 0.0]\n",
      "[DEBUG] alpha_beta = [-10.0, 0.0]\n",
      "[DEBUG] alpha_beta = [0.0, inf]\n",
      "[DEBUG] alpha_beta = [0.0, inf]\n",
      "[DEBUG] alpha_beta = [0.0, inf]\n",
      "[DEBUG] alpha_beta = [0.0, inf]\n",
      "[DEBUG] alpha_beta = [0.0, inf]\n",
      "[DEBUG] alpha_beta = [0.0, inf]\n",
      "[DEBUG] alpha_beta = [0.0, inf]\n",
      "[DEBUG] alpha_beta = [0.0, inf]\n",
      "[DEBUG] alpha_beta = [0.0, inf]\n",
      "[DEBUG] alpha_beta = [0.0, inf]\n",
      "[DEBUG] alpha_beta = [0.0, inf]\n",
      "[DEBUG] alpha_beta = [0.0, inf]\n",
      "[DEBUG] alpha_beta = [0.0, inf]\n",
      "[DEBUG] alpha_beta = [0.0, inf]\n",
      "[DEBUG] alpha_beta = [0.0, inf]\n",
      "[DEBUG] alpha_beta = [0.0, inf]\n",
      "[DEBUG] alpha_beta = [0.0, inf]\n",
      "[DEBUG] alpha_beta = [0.0, inf]\n",
      "[DEBUG] alpha_beta = [0.0, inf]\n",
      "[DEBUG] alpha_beta = [0.0, inf]\n",
      "[DEBUG] alpha_beta = [0.0, inf]\n",
      "[DEBUG] alpha_beta = [0.0, 10.0]\n",
      "[DEBUG] alpha_beta = [0.0, inf]\n",
      "[DEBUG] alpha_beta = [0.0, inf]\n",
      "[DEBUG] alpha_beta = [0.0, inf]\n",
      "[DEBUG] alpha_beta = [0.0, inf]\n",
      "[DEBUG] alpha_beta = [0.0, inf]\n",
      "[DEBUG] alpha_beta = [0.0, inf]\n",
      "[DEBUG] alpha_beta = [0.0, inf]\n",
      "[DEBUG] alpha_beta = [0.0, inf]\n",
      "[DEBUG] alpha_beta = [0.0, inf]\n",
      "[DEBUG] alpha_beta = [0.0, inf]\n",
      "[DEBUG] alpha_beta = [0.0, inf]\n",
      "[DEBUG] alpha_beta = [0.0, inf]\n",
      "[DEBUG] alpha_beta = [0.0, inf]\n",
      "[DEBUG] alpha_beta = [0.0, inf]\n",
      "[DEBUG] alpha_beta = [0.0, inf]\n",
      "[DEBUG] alpha_beta = [0.0, inf]\n",
      "[DEBUG] alpha_beta = [0.0, inf]\n",
      "[DEBUG] alpha_beta = [0.0, inf]\n",
      "[DEBUG] alpha_beta = [0.0, inf]\n",
      "[DEBUG] alpha_beta = [0.0, inf]\n",
      "[DEBUG] alpha_beta = [0.0, inf]\n",
      "[DEBUG] alpha_beta = [0.0, inf]\n",
      "[DEBUG] alpha_beta = [0.0, inf]\n",
      "[DEBUG] alpha_beta = [0.0, inf]\n",
      "[DEBUG] alpha_beta = [0.0, inf]\n",
      "[DEBUG] alpha_beta = [10.0, inf]\n",
      "[DEBUG] alpha_beta = [10.0, inf]\n",
      "[DEBUG] alpha_beta = [0.0, 10.0]\n",
      "[DEBUG] alpha_beta = [0.0, 10.0]\n",
      "[DEBUG] alpha_beta = [0.0, 10.0]\n",
      "[DEBUG] alpha_beta = [0.0, 10.0]\n",
      "[DEBUG] alpha_beta = [0.0, 10.0]\n",
      "[DEBUG] alpha_beta = [0.0, inf]\n",
      "[DEBUG] alpha_beta = [0.0, inf]\n",
      "[DEBUG] alpha_beta = [0.0, inf]\n",
      "[DEBUG] alpha_beta = [0.0, inf]\n",
      "[DEBUG] alpha_beta = [0.0, inf]\n",
      "[DEBUG] alpha_beta = [0.0, inf]\n",
      "[DEBUG] out = {'val': 0.0, 'actions': [(0, 2), (0, 1), (2, 1), (1, 0), (1, 2), (2, 2)]}\n"
     ]
    },
    {
     "data": {
      "text/plain": [
       "{'f_out': 2, 'seconds': 0.02563953399658203}"
      ]
     },
     "execution_count": 48,
     "metadata": {},
     "output_type": "execute_result"
    }
   ],
   "source": [
    "strategy_minimax.get_move(state=s, sym='O')"
   ]
  },
  {
   "cell_type": "code",
   "execution_count": 42,
   "metadata": {},
   "outputs": [
    {
     "data": {
      "text/plain": [
       "(0, 1)"
      ]
     },
     "execution_count": 42,
     "metadata": {},
     "output_type": "execute_result"
    }
   ],
   "source": [
    "world_ttt.actions[1]"
   ]
  }
 ],
 "metadata": {
  "kernelspec": {
   "display_name": "tttcon4",
   "language": "python",
   "name": "python3"
  },
  "language_info": {
   "codemirror_mode": {
    "name": "ipython",
    "version": 3
   },
   "file_extension": ".py",
   "mimetype": "text/x-python",
   "name": "python",
   "nbconvert_exporter": "python",
   "pygments_lexer": "ipython3",
   "version": "3.12.2"
  }
 },
 "nbformat": 4,
 "nbformat_minor": 2
}
