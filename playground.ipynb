{
 "cells": [
  {
   "cell_type": "markdown",
   "metadata": {},
   "source": [
    "# Playground"
   ]
  },
  {
   "cell_type": "markdown",
   "metadata": {},
   "source": [
    "This is a space for experimentation."
   ]
  },
  {
   "cell_type": "code",
   "execution_count": 1,
   "metadata": {},
   "outputs": [],
   "source": [
    "import random\n",
    "import itertools\n",
    "import numpy as np\n",
    "from player import Player\n",
    "from manual import Manual\n",
    "from minimax import MiniMax\n",
    "from strategy import Strategy\n",
    "from datetime import datetime\n",
    "from tic_tac_toe import WorldTTT\n",
    "from q_learning import TabQLearning\n",
    "# from utility import state_str_to_num\n",
    "# from utility import state_num_to_str\n",
    "from utility import list_to_tuple_2d\n",
    "from utility import get_opposite_symbol\n",
    "\n",
    "%load_ext autoreload\n",
    "%autoreload 2"
   ]
  },
  {
   "cell_type": "code",
   "execution_count": 2,
   "metadata": {},
   "outputs": [],
   "source": [
    "world_ttt = WorldTTT()"
   ]
  },
  {
   "cell_type": "code",
   "execution_count": 13,
   "metadata": {},
   "outputs": [],
   "source": [
    "s = list_to_tuple_2d([\n",
    "    ['#', '#', '#'],\n",
    "    ['#', '#', '#'],\n",
    "    ['#', '#', 'X']\n",
    "])"
   ]
  },
  {
   "cell_type": "code",
   "execution_count": 10,
   "metadata": {},
   "outputs": [],
   "source": [
    "strategy_tabq = TabQLearning(\n",
    "    is_game_over=world_ttt.is_game_over,\n",
    "    get_next_states=world_ttt.get_next_states,\n",
    "    get_next_state=world_ttt.get_next_state,\n",
    "    states=world_ttt.states,\n",
    "    actions=world_ttt.actions,\n",
    "    r_tab=world_ttt.get_reward_table(),\n",
    ")\n",
    "r_tab = np.array(strategy_tabq.r_tab)"
   ]
  },
  {
   "cell_type": "code",
   "execution_count": 8,
   "metadata": {},
   "outputs": [
    {
     "data": {
      "text/plain": [
       "9"
      ]
     },
     "execution_count": 8,
     "metadata": {},
     "output_type": "execute_result"
    }
   ],
   "source": [
    "world_ttt.actions.index((1, 1, 'O'))"
   ]
  },
  {
   "cell_type": "code",
   "execution_count": 7,
   "metadata": {},
   "outputs": [
    {
     "data": {
      "text/plain": [
       "(False, None)"
      ]
     },
     "execution_count": 7,
     "metadata": {},
     "output_type": "execute_result"
    }
   ],
   "source": [
    "world_ttt.get_next_state(s, (1, 1, 'X'))"
   ]
  },
  {
   "cell_type": "code",
   "execution_count": 6,
   "metadata": {},
   "outputs": [
    {
     "data": {
      "text/plain": [
       "array([-100., -100., -100.,   -5., -100., -100., -100.,   -5., -100.,\n",
       "         -5., -100.,   -5., -100., -100., -100., -100., -100., -100.])"
      ]
     },
     "execution_count": 6,
     "metadata": {},
     "output_type": "execute_result"
    }
   ],
   "source": [
    "r_tab[world_ttt.states.index(s), :]"
   ]
  },
  {
   "cell_type": "code",
   "execution_count": 11,
   "metadata": {},
   "outputs": [
    {
     "name": "stdout",
     "output_type": "stream",
     "text": [
      "Learning ...\n",
      "Max episodes reached.\n",
      "All done. Episodes = 100000.\n"
     ]
    }
   ],
   "source": [
    "strategy_tabq.learn(\n",
    "    symbols=['X', 'O'], \n",
    "    max_episodes=1e6, \n",
    "    # change_threshold=0,\n",
    "    discount_factor=0.9,\n",
    "    learning_rate=0.3,\n",
    "    # start_choice_threshold={\n",
    "    #     'state_count':len(world_ttt.states),\n",
    "    #     'choice_count': 100\n",
    "    # }\n",
    ")"
   ]
  },
  {
   "cell_type": "code",
   "execution_count": 12,
   "metadata": {},
   "outputs": [
    {
     "name": "stdout",
     "output_type": "stream",
     "text": [
      "Saved Q table at ./q_tables/gamma0.9alpha0.1episodes1e6.json.\n"
     ]
    }
   ],
   "source": [
    "strategy_tabq.save_qtab(\"gamma0.9alpha0.3episodes1e6\", \"./q_tables\")"
   ]
  },
  {
   "cell_type": "code",
   "execution_count": 66,
   "metadata": {},
   "outputs": [
    {
     "data": {
      "text/plain": [
       "8"
      ]
     },
     "execution_count": 66,
     "metadata": {},
     "output_type": "execute_result"
    }
   ],
   "source": [
    "world_ttt.actions.index((1, 1, 'X'))"
   ]
  },
  {
   "cell_type": "code",
   "execution_count": 70,
   "metadata": {},
   "outputs": [
    {
     "data": {
      "text/plain": [
       "3107"
      ]
     },
     "execution_count": 70,
     "metadata": {},
     "output_type": "execute_result"
    }
   ],
   "source": [
    "world_ttt.states.index(s)"
   ]
  },
  {
   "cell_type": "code",
   "execution_count": 71,
   "metadata": {},
   "outputs": [
    {
     "data": {
      "text/plain": [
       "[-100,\n",
       " -100,\n",
       " -100,\n",
       " -5.0,\n",
       " -100,\n",
       " -100,\n",
       " -100,\n",
       " -5.0,\n",
       " -100,\n",
       " -5.0,\n",
       " -100,\n",
       " -5.0,\n",
       " -100,\n",
       " -100,\n",
       " -100,\n",
       " -100,\n",
       " -100,\n",
       " -100]"
      ]
     },
     "execution_count": 71,
     "metadata": {},
     "output_type": "execute_result"
    }
   ],
   "source": [
    "strategy_tabq.r_tab[world_ttt.states.index(s)]"
   ]
  },
  {
   "cell_type": "code",
   "execution_count": 65,
   "metadata": {},
   "outputs": [
    {
     "name": "stdout",
     "output_type": "stream",
     "text": [
      "[-1000 -1000  -100    -5 -1000 -1000  -100    -5  -100    -5  -100    -5\n",
      " -1000 -1000 -1000 -1000 -1000 -1000]\n"
     ]
    }
   ],
   "source": [
    "print(strategy_tabq.q_tab[world_ttt.states.index(s), :])"
   ]
  },
  {
   "cell_type": "code",
   "execution_count": 60,
   "metadata": {},
   "outputs": [
    {
     "name": "stdout",
     "output_type": "stream",
     "text": [
      "[-1000 -1000  -100    -5 -1000 -1000  -100    -5  -100    -5  -100    -5\n",
      " -1000 -1000 -1000 -1000 -1000 -1000]\n"
     ]
    }
   ],
   "source": [
    "print(strategy_tabq.q_tab[world_ttt.states.index(s), :])"
   ]
  },
  {
   "cell_type": "code",
   "execution_count": 61,
   "metadata": {},
   "outputs": [
    {
     "name": "stdout",
     "output_type": "stream",
     "text": [
      "Move Index = 3\n",
      "Move = (0, 1, 'O')\n"
     ]
    }
   ],
   "source": [
    "move_idx = strategy_tabq.get_move(state=s, sym='O')['f_out']\n",
    "print(f\"Move Index = {move_idx}\")\n",
    "print(f\"Move = {world_ttt.actions[move_idx]}\")"
   ]
  }
 ],
 "metadata": {
  "kernelspec": {
   "display_name": "tttcon4",
   "language": "python",
   "name": "python3"
  },
  "language_info": {
   "codemirror_mode": {
    "name": "ipython",
    "version": 3
   },
   "file_extension": ".py",
   "mimetype": "text/x-python",
   "name": "python",
   "nbconvert_exporter": "python",
   "pygments_lexer": "ipython3",
   "version": "3.12.2"
  }
 },
 "nbformat": 4,
 "nbformat_minor": 2
}
