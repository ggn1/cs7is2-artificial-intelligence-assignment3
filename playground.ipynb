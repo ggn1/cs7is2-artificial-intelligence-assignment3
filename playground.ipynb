{
 "cells": [
  {
   "cell_type": "markdown",
   "metadata": {},
   "source": [
    "# Playground"
   ]
  },
  {
   "cell_type": "markdown",
   "metadata": {},
   "source": [
    "This is a space for experimentation."
   ]
  },
  {
   "cell_type": "code",
   "execution_count": 1,
   "metadata": {},
   "outputs": [],
   "source": [
    "import random\n",
    "import itertools\n",
    "import numpy as np\n",
    "from player import Player\n",
    "from manual import Manual\n",
    "from minimax import MiniMax\n",
    "from strategy import Strategy\n",
    "from datetime import datetime\n",
    "from tic_tac_toe import WorldTTT\n",
    "from q_learning import TabQLearning\n",
    "# from utility import state_str_to_num\n",
    "# from utility import state_num_to_str\n",
    "from utility import list_to_tuple_2d\n",
    "from utility import get_opposite_symbol\n",
    "\n",
    "%load_ext autoreload\n",
    "%autoreload 2"
   ]
  },
  {
   "cell_type": "code",
   "execution_count": 2,
   "metadata": {},
   "outputs": [],
   "source": [
    "world_ttt = WorldTTT()"
   ]
  },
  {
   "cell_type": "code",
   "execution_count": 13,
   "metadata": {},
   "outputs": [],
   "source": [
    "s = list_to_tuple_2d([\n",
    "    ['#', '#', '#'],\n",
    "    ['#', '#', '#'],\n",
    "    ['#', '#', 'X']\n",
    "])"
   ]
  },
  {
   "cell_type": "code",
   "execution_count": 20,
   "metadata": {},
   "outputs": [],
   "source": [
    "strategy_tabq = TabQLearning(\n",
    "    is_game_over=world_ttt.is_game_over,\n",
    "    get_next_states=world_ttt.get_next_states,\n",
    "    get_next_state=world_ttt.get_next_state,\n",
    "    states=world_ttt.states,\n",
    "    actions=world_ttt.actions,\n",
    "    r_tab=world_ttt.get_reward_table(),\n",
    ")\n",
    "r_tab = np.array(strategy_tabq.r_tab)"
   ]
  },
  {
   "cell_type": "code",
   "execution_count": 46,
   "metadata": {},
   "outputs": [
    {
     "name": "stdout",
     "output_type": "stream",
     "text": [
      "Learning ...\n",
      "Max episodes reached.\n",
      "All done. Episodes = 1000.\n"
     ]
    }
   ],
   "source": [
    "strategy_tabq.learn(\n",
    "    symbols=['X', 'O'], \n",
    "    max_episodes=1e3, \n",
    "    # change_threshold=0,\n",
    "    discount_factor=0.99,\n",
    "    learning_rate=0.9,\n",
    "    # start_choice_threshold={\n",
    "    #     'state_count':len(world_ttt.states),\n",
    "    #     'choice_count': 100\n",
    "    # }\n",
    ")"
   ]
  },
  {
   "cell_type": "code",
   "execution_count": 24,
   "metadata": {},
   "outputs": [
    {
     "name": "stdout",
     "output_type": "stream",
     "text": [
      "Saved Q table at ./__q_tables/gamma0.99alpha0.9episodes1e6.json.\n"
     ]
    }
   ],
   "source": [
    "# strategy_tabq.save_qtab(\"gamma0.99alpha0.9episodes1e6\", \"./__q_tables\")"
   ]
  },
  {
   "cell_type": "code",
   "execution_count": 50,
   "metadata": {},
   "outputs": [
    {
     "name": "stdout",
     "output_type": "stream",
     "text": [
      "[-196  -89 -180  -84 -186   -2 -124  -80 -190  -19 -125  -76 -176    3\n",
      " -105  -81 -100 -100]\n"
     ]
    }
   ],
   "source": [
    "print(strategy_tabq.q_tab[world_ttt.states.index(s), :])"
   ]
  },
  {
   "cell_type": "code",
   "execution_count": 48,
   "metadata": {},
   "outputs": [
    {
     "name": "stdout",
     "output_type": "stream",
     "text": [
      "[-196  -89 -180  -84 -186   -2 -124  -80 -190  -19 -125  -76 -176    3\n",
      " -105  -81 -100 -100]\n"
     ]
    }
   ],
   "source": [
    "# Q table row for state s.\n",
    "print(strategy_tabq.q_tab[world_ttt.states.index(s), :])"
   ]
  },
  {
   "cell_type": "code",
   "execution_count": 51,
   "metadata": {},
   "outputs": [
    {
     "data": {
      "text/plain": [
       "9"
      ]
     },
     "execution_count": 51,
     "metadata": {},
     "output_type": "execute_result"
    }
   ],
   "source": [
    "world_ttt.actions.index((1, 1, 'O'))"
   ]
  },
  {
   "cell_type": "code",
   "execution_count": 47,
   "metadata": {},
   "outputs": [
    {
     "name": "stdout",
     "output_type": "stream",
     "text": [
      "Move Index = 13\n",
      "Move = (2, 0, 'O')\n"
     ]
    }
   ],
   "source": [
    "move_idx = strategy_tabq.get_move(state=s, sym='O')['f_out']\n",
    "print(f\"Move Index = {move_idx}\")\n",
    "print(f\"Move = {world_ttt.actions[move_idx]}\")"
   ]
  },
  {
   "cell_type": "code",
   "execution_count": 6,
   "metadata": {},
   "outputs": [],
   "source": [
    "def my_fun(ones, frees):\n",
    "    ideally_frees = 4 - ones\n",
    "    return (ones + 1) - (ideally_frees - frees)"
   ]
  },
  {
   "cell_type": "code",
   "execution_count": 10,
   "metadata": {},
   "outputs": [
    {
     "data": {
      "text/plain": [
       "8"
      ]
     },
     "execution_count": 10,
     "metadata": {},
     "output_type": "execute_result"
    }
   ],
   "source": [
    "my_fun(3, 3)"
   ]
  }
 ],
 "metadata": {
  "kernelspec": {
   "display_name": "tttcon4",
   "language": "python",
   "name": "python3"
  },
  "language_info": {
   "codemirror_mode": {
    "name": "ipython",
    "version": 3
   },
   "file_extension": ".py",
   "mimetype": "text/x-python",
   "name": "python",
   "nbconvert_exporter": "python",
   "pygments_lexer": "ipython3",
   "version": "3.12.2"
  }
 },
 "nbformat": 4,
 "nbformat_minor": 2
}
