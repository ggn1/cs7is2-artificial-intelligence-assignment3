{
 "cells": [
  {
   "cell_type": "markdown",
   "metadata": {},
   "source": [
    "# Playground"
   ]
  },
  {
   "cell_type": "markdown",
   "metadata": {},
   "source": [
    "This is a space for experimentation."
   ]
  },
  {
   "cell_type": "code",
   "execution_count": 2,
   "metadata": {},
   "outputs": [],
   "source": [
    "import os\n",
    "import json\n",
    "import random\n",
    "import itertools\n",
    "import numpy as np\n",
    "from player import Player\n",
    "from datetime import datetime\n",
    "from utility import int2board\n",
    "from utility import board2int\n",
    "from connect4 import WorldCon4\n",
    "from tic_tac_toe import WorldTTT\n",
    "from utility import board_to_str\n",
    "from utility import str_to_int_2tuple\n",
    "from strategies import StrategyMiniMax\n",
    "from strategies import StrategyRandomTTT\n",
    "from strategies import StrategyManualTTT\n",
    "from output_handler import OutputHandler\n",
    "from strategies import StrategyDefaultTTT\n",
    "from strategies import StrategyDefaultCon4\n",
    "from strategies import StrategyTabQLearning\n",
    "\n",
    "%load_ext autoreload\n",
    "%autoreload 2"
   ]
  },
  {
   "cell_type": "markdown",
   "metadata": {},
   "source": [
    "## Tic Tac Toe"
   ]
  },
  {
   "cell_type": "code",
   "execution_count": 4,
   "metadata": {},
   "outputs": [],
   "source": [
    "world_ttt = WorldTTT(\n",
    "    board_size=(3, 3), player1sym='X', player2sym='O',\n",
    "    output_handler=OutputHandler(\n",
    "        logs_folder=\"./__logs\",\n",
    "        csv_folder=\"./__run_metrics\"\n",
    "    )\n",
    ")"
   ]
  },
  {
   "cell_type": "code",
   "execution_count": 5,
   "metadata": {},
   "outputs": [
    {
     "name": "stdout",
     "output_type": "stream",
     "text": [
      "0 # X X\n",
      "1 # O O\n",
      "2 X O #\n",
      "  0 1 2\n",
      "\n"
     ]
    }
   ],
   "source": [
    "board_test_ttt = np.array([\n",
    "    [-1, 1, 1],\n",
    "    [-1, 0, 0],\n",
    "    [1, 0, -1]\n",
    "])\n",
    "board_test_ttt_int = board2int(board_test_ttt)\n",
    "is_player1 = True\n",
    "is_my_turn_next = True\n",
    "action = ((2, 2), 1)\n",
    "print(board_to_str(board_test_ttt, 'X', 'O'))"
   ]
  },
  {
   "cell_type": "markdown",
   "metadata": {},
   "source": [
    "### Test World"
   ]
  },
  {
   "cell_type": "code",
   "execution_count": 52,
   "metadata": {},
   "outputs": [],
   "source": [
    "# # Test function get_actions(...)\n",
    "# world_ttt.get_actions(is_player1)\n",
    "# # [OK]"
   ]
  },
  {
   "cell_type": "code",
   "execution_count": 32,
   "metadata": {},
   "outputs": [],
   "source": [
    "# # Test function is_valid(...)\n",
    "# world_ttt.is_valid(board_test_ttt, is_player1)\n",
    "# # [OK]"
   ]
  },
  {
   "cell_type": "code",
   "execution_count": 59,
   "metadata": {},
   "outputs": [],
   "source": [
    "# # Test function is_legal(...)\n",
    "# world_ttt.is_legal(board_test_ttt, ((0, 0), 1))\n",
    "# # [OK]"
   ]
  },
  {
   "cell_type": "code",
   "execution_count": 77,
   "metadata": {},
   "outputs": [],
   "source": [
    "# # Test get_next_state(...)\n",
    "# next_state = world_ttt.get_next_state(board_test_ttt, action)\n",
    "# print(\"Next State =\", next_state)\n",
    "# if not next_state == -1:\n",
    "#     print(\"=\", int2board(next_state, world_ttt.board.shape))\n",
    "# # [OK]"
   ]
  },
  {
   "cell_type": "code",
   "execution_count": 88,
   "metadata": {},
   "outputs": [],
   "source": [
    "# # Test state_eval(...)\n",
    "# world_ttt.state_eval(board_test_ttt, is_my_turn_next)\n",
    "# # [OK]"
   ]
  },
  {
   "cell_type": "code",
   "execution_count": 41,
   "metadata": {},
   "outputs": [],
   "source": [
    "# # Test get_next_states(...)\n",
    "# for s_num in world_ttt.get_next_states(\n",
    "#     board_test_ttt, \n",
    "#     is_player1\n",
    "# ): print(int2board(s_num[0], world_ttt.board.shape), '\\n')\n",
    "# # [OK]"
   ]
  },
  {
   "cell_type": "code",
   "execution_count": 1,
   "metadata": {},
   "outputs": [],
   "source": [
    "# # Test get_reward(...)\n",
    "# world_ttt.get_reward(board_test_ttt, action)\n",
    "# # [OK]"
   ]
  },
  {
   "cell_type": "code",
   "execution_count": 96,
   "metadata": {},
   "outputs": [],
   "source": [
    "# # Test is_winner(...)\n",
    "# world_ttt.is_winner(board_test_ttt)\n",
    "# # [OK]"
   ]
  },
  {
   "cell_type": "code",
   "execution_count": 78,
   "metadata": {},
   "outputs": [],
   "source": [
    "# # Testing get_start_states(...)\n",
    "# world_ttt.get_start_states(is_player1=True)\n",
    "# # [OK]"
   ]
  },
  {
   "cell_type": "code",
   "execution_count": 83,
   "metadata": {},
   "outputs": [],
   "source": [
    "# # Testing is_game_over(...).\n",
    "# world_ttt.is_game_over(0)\n",
    "# # [OK]"
   ]
  },
  {
   "cell_type": "markdown",
   "metadata": {},
   "source": [
    "### Test Strategies"
   ]
  },
  {
   "cell_type": "markdown",
   "metadata": {},
   "source": [
    "#### Q Learning Strategy"
   ]
  },
  {
   "cell_type": "code",
   "execution_count": 6,
   "metadata": {},
   "outputs": [],
   "source": [
    "strategy_tabq = StrategyTabQLearning(\n",
    "    get_reward=world_ttt.get_reward,\n",
    "    is_game_over=world_ttt.is_game_over,\n",
    "    get_next_states=world_ttt.get_next_states,\n",
    "    get_next_state=world_ttt.get_next_state,\n",
    "    get_actions=world_ttt.get_actions,\n",
    "    get_start_states=world_ttt.get_start_states,\n",
    "    board_shape=world_ttt.board.shape\n",
    ") # Player 1 tabular Q learning strategy TTT."
   ]
  },
  {
   "cell_type": "code",
   "execution_count": 146,
   "metadata": {},
   "outputs": [],
   "source": [
    "# # Testing function get_move(...)\n",
    "# strategy_tabq.get_move(\n",
    "#     board=board_test_ttt,\n",
    "#     is_player1=is_player1\n",
    "# )\n",
    "# # [OK]"
   ]
  },
  {
   "cell_type": "code",
   "execution_count": 95,
   "metadata": {},
   "outputs": [],
   "source": [
    "# # Testing function learn(...)\n",
    "\n",
    "# strategy_tabq.learn(\n",
    "#     max_episodes=1e4,\n",
    "#     discount_factor=0.99, # gamma\n",
    "#     learning_rate=0.9, # learning rate\n",
    "#     is_player1=True\n",
    "# )\n",
    "\n",
    "# strategy_tabq.learn(\n",
    "#     max_episodes=1e4,\n",
    "#     discount_factor=0.99, # gamma\n",
    "#     learning_rate=0.9, # learning rate\n",
    "#     is_player1=False\n",
    "# )\n",
    "\n",
    "# # [OK]"
   ]
  },
  {
   "cell_type": "code",
   "execution_count": 96,
   "metadata": {},
   "outputs": [],
   "source": [
    "# print(\"known player 1 states = \", len(strategy_tabq.q_tab[1]))\n",
    "# print(\"known player 2 states = \", len(strategy_tabq.q_tab[2]))\n",
    "# print(\"known states = \", len(strategy_tabq.q_tab[1]) + len(strategy_tabq.q_tab[2]))"
   ]
  },
  {
   "cell_type": "code",
   "execution_count": 97,
   "metadata": {},
   "outputs": [],
   "source": [
    "# board_test_ttt = np.array([\n",
    "#     [1, 1, 0],\n",
    "#     [0, 0, -1],\n",
    "#     [1, 1, -1]\n",
    "# ])\n",
    "# board_test_ttt_int = board2int(board_test_ttt)\n",
    "# is_player1 = False\n",
    "# is_my_turn_next = True\n",
    "# action = ((1, 0), 1)\n",
    "# board_test_ttt"
   ]
  },
  {
   "cell_type": "code",
   "execution_count": 98,
   "metadata": {},
   "outputs": [],
   "source": [
    "# strategy_tabq.q_tab[2][board_test_ttt_int]"
   ]
  },
  {
   "cell_type": "code",
   "execution_count": 101,
   "metadata": {},
   "outputs": [],
   "source": [
    "# strategy_tabq.get_move(board=board_test_ttt, is_player1=is_player1)"
   ]
  },
  {
   "cell_type": "markdown",
   "metadata": {},
   "source": [
    "### Test Play"
   ]
  },
  {
   "cell_type": "markdown",
   "metadata": {},
   "source": [
    "## Connect 4"
   ]
  },
  {
   "cell_type": "code",
   "execution_count": 5,
   "metadata": {},
   "outputs": [],
   "source": [
    "world_con4 = WorldCon4(\n",
    "    board_size=(6, 7), \n",
    "    player1sym='R', player2sym='Y',\n",
    "    output_handler=OutputHandler(\n",
    "        logs_folder=\"./__logs\",\n",
    "        csv_folder=\"./__run_metrics\"\n",
    "    )\n",
    ")"
   ]
  },
  {
   "cell_type": "code",
   "execution_count": 6,
   "metadata": {},
   "outputs": [
    {
     "name": "stdout",
     "output_type": "stream",
     "text": [
      "0 # # # # # # #\n",
      "1 # # # # # # #\n",
      "2 # # Y # R # #\n",
      "3 # # R # Y R Y\n",
      "4 R R Y R R Y Y\n",
      "5 Y R Y R R Y Y\n",
      "  0 1 2 3 4 5 6\n",
      "\n",
      "Next Turn = R\n"
     ]
    }
   ],
   "source": [
    "board_test_con4 = np.array([\n",
    "    [-1, -1, -1, -1, -1, -1, -1],\n",
    "    [-1, -1, -1, -1, -1, -1, -1],\n",
    "    [-1, -1,  0, -1,  1, -1, -1],\n",
    "    [-1, -1,  1, -1,  0,  1,  0],\n",
    "    [ 1,  1,  0,  1,  1,  0,  0],\n",
    "    [ 0,  1,  0,  1,  1,  0,  0],\n",
    "])\n",
    "board_test_con4_int = board2int(board_test_con4)\n",
    "is_player1 = True\n",
    "next_player = 1\n",
    "player_num = 1 if is_player1 else 2\n",
    "opponent_num = player_num % 2 + 1\n",
    "is_my_turn_next = True\n",
    "action = ((2, 2), 1)\n",
    "print(board_to_str(\n",
    "    board_test_con4, \n",
    "    world_con4.player_symbols[player_num], \n",
    "    world_con4.player_symbols[opponent_num]\n",
    "))\n",
    "print(f\"Next Turn = {world_con4.player_symbols[next_player]}\")"
   ]
  },
  {
   "cell_type": "markdown",
   "metadata": {},
   "source": [
    "### Test World"
   ]
  },
  {
   "cell_type": "code",
   "execution_count": 44,
   "metadata": {},
   "outputs": [],
   "source": [
    "# # Test can_connect4(...)\n",
    "# cc4_0, cc4_1 = world_con4.can_connect4(board_test_con4)\n",
    "# print(\"Can connect 4 [1] =\", cc4_1)\n",
    "# print(\"Can connect 4 [0] =\", cc4_0)\n",
    "# # [OK]"
   ]
  },
  {
   "cell_type": "code",
   "execution_count": 306,
   "metadata": {},
   "outputs": [],
   "source": [
    "# # Test get_actions(...)\n",
    "# print(\"Player 1 Actions =\", world_con4.get_actions(is_player1=True))\n",
    "# print(\"Player 2 Actions =\", world_con4.get_actions(is_player1=False))\n",
    "# # [OK]"
   ]
  },
  {
   "cell_type": "code",
   "execution_count": 46,
   "metadata": {},
   "outputs": [],
   "source": [
    "# # Test is_legal(...)\n",
    "# world_con4.is_legal(board_test_con4, action=(6, 2))\n",
    "# # [OK]"
   ]
  },
  {
   "cell_type": "code",
   "execution_count": 45,
   "metadata": {},
   "outputs": [],
   "source": [
    "# # Test is_valid(...)\n",
    "# world_con4.is_valid(board_test_con4, is_player1=True)\n",
    "# # [OK]"
   ]
  },
  {
   "cell_type": "code",
   "execution_count": 51,
   "metadata": {},
   "outputs": [],
   "source": [
    "# # Test is_winner(...)\n",
    "# world_con4.is_winner(board_test_con4)\n",
    "# # [OK]"
   ]
  },
  {
   "cell_type": "code",
   "execution_count": 61,
   "metadata": {},
   "outputs": [
    {
     "data": {
      "text/plain": [
       "18737243841865286406"
      ]
     },
     "execution_count": 61,
     "metadata": {},
     "output_type": "execute_result"
    }
   ],
   "source": [
    "# # Test get_next_state(...)\n",
    "# world_con4.get_next_state(board_test_con4, (5, 1))\n",
    "# # [OK]"
   ]
  },
  {
   "cell_type": "markdown",
   "metadata": {},
   "source": [
    "### Test Strategies"
   ]
  },
  {
   "cell_type": "markdown",
   "metadata": {},
   "source": [
    "#### Default Strategy"
   ]
  },
  {
   "cell_type": "code",
   "execution_count": 37,
   "metadata": {},
   "outputs": [],
   "source": [
    "strategy_default_con4 = StrategyDefaultCon4(can_connect4=world_con4.can_connect4)"
   ]
  },
  {
   "cell_type": "code",
   "execution_count": 39,
   "metadata": {},
   "outputs": [],
   "source": [
    "# # Test get_move(...)\n",
    "# strategy_default_con4.get_move(board=board_test_con4)\n",
    "# # [OK]"
   ]
  },
  {
   "cell_type": "markdown",
   "metadata": {},
   "source": [
    "#### Minimax Strategy"
   ]
  },
  {
   "cell_type": "code",
   "execution_count": 69,
   "metadata": {},
   "outputs": [],
   "source": [
    "strategy_minimax = StrategyMiniMax(\n",
    "    is_game_over=world_con4.is_game_over,\n",
    "    state_eval=world_con4.state_eval,\n",
    "    get_next_states=world_con4.get_next_states,\n",
    "    alpha_beta=True, depth=1\n",
    ")"
   ]
  },
  {
   "cell_type": "code",
   "execution_count": 91,
   "metadata": {},
   "outputs": [
    {
     "data": {
      "text/plain": [
       "{'f_out': 6, 'seconds': 0.009275436401367188}"
      ]
     },
     "execution_count": 91,
     "metadata": {},
     "output_type": "execute_result"
    }
   ],
   "source": [
    "# # Test get_move(...)\n",
    "# strategy_minimax.get_move(board_test_con4, is_player1=True)\n",
    "# # [OK]"
   ]
  },
  {
   "cell_type": "markdown",
   "metadata": {},
   "source": [
    "#### Q Learning Strategy"
   ]
  },
  {
   "cell_type": "code",
   "execution_count": 7,
   "metadata": {},
   "outputs": [],
   "source": [
    "strategy_tabq_con4 = StrategyTabQLearning(\n",
    "    get_reward=world_con4.get_reward,\n",
    "    is_game_over=world_con4.is_game_over,\n",
    "    get_next_state=world_con4.get_next_state,\n",
    "    get_next_states=world_con4.get_next_states,\n",
    "    get_actions=world_con4.get_actions,\n",
    "    get_start_states=world_con4.get_start_states,\n",
    "    board_shape=world_con4.board.shape,\n",
    ")"
   ]
  },
  {
   "cell_type": "code",
   "execution_count": 277,
   "metadata": {},
   "outputs": [],
   "source": [
    "# # Test get_move(...)\n",
    "# strategy_tabq.get_move(board_test_con4, is_player1=True)\n",
    "# # [OK]"
   ]
  },
  {
   "cell_type": "code",
   "execution_count": 8,
   "metadata": {},
   "outputs": [
    {
     "name": "stdout",
     "output_type": "stream",
     "text": [
      "Learning (Starting Player = 1) ...\n",
      "Max episodes reached.\n",
      "All done. Episodes = 10.\n"
     ]
    }
   ],
   "source": [
    "strategy_tabq_con4.learn(\n",
    "    max_episodes=10,\n",
    "    discount_factor=0.99, # gamma\n",
    "    learning_rate=0.9, # learning rate\n",
    "    is_player1=True,\n",
    "    start_board=board_test_con4_int\n",
    ")"
   ]
  },
  {
   "cell_type": "code",
   "execution_count": 10,
   "metadata": {},
   "outputs": [
    {
     "data": {
      "text/plain": [
       "{1: {38251516949160132607: {(2, 1): -193.65},\n",
       "  18927717448981791768575: {(0, 1): -193.65},\n",
       "  18932329135000220336127: {(0, 1): -193.65},\n",
       "  19522624945376240074751: {(3, 1): -193.65, (5, 1): -193.65},\n",
       "  19596411921673242542079: {(5, 1): -193.65},\n",
       "  19614858665746956812287: {(4, 1): -58.64999999999999, (5, 1): -193.65},\n",
       "  0: {(6, 1): -148.65},\n",
       "  4398046511121: {(2, 1): -148.65},\n",
       "  9011597301254193: {(5, 1): -148.65},\n",
       "  9020393394276407: {(3, 1): -147.31215},\n",
       "  9055577766369343: {(1, 1): -148.65},\n",
       "  2314898586980588607: {(4, 1): -148.65},\n",
       "  2317150386794536511: {(2, 1): -193.65},\n",
       "  149891102976504503999: {(0, 1): -193.65, (6, 1): -193.65},\n",
       "  149891384455776182015: {(5, 1): -193.65, (3, 1): -58.64999999999999},\n",
       "  149892510355683033087: {(3, 1): -58.64999999999999},\n",
       "  21976041907182383398911: {(4, 1): -58.64999999999999},\n",
       "  9055577766627391: {(5, 1): -148.65},\n",
       "  10181477673470335: {(2, 1): -148.65},\n",
       "  147584134067383445887: {(4, 1): -148.65},\n",
       "  147586385867197135743: {(6, 1): -148.65, (4, 1): -148.65},\n",
       "  147586948817150573567: {(0, 1): -148.65},\n",
       "  152198634835713227775: {(0, 1): -148.65},\n",
       "  75710062360767216548863: {(5, 1): -148.65},\n",
       "  75728509104845225262079: {(2, 1): -148.65},\n",
       "  2493580148334653330553855: {(1, 1): -148.65},\n",
       "  2493582454177663081643007: {(0, 1): -148.65},\n",
       "  12164989011096895510936575: {(3, 1): -58.64999999999999},\n",
       "  147874616243349437311: {(3, 1): -58.64999999999999, (0, 1): -193.65},\n",
       "  149963160570542448575: {(0, 1): -193.65},\n",
       "  149963442045519224831: {(6, 1): -193.65},\n",
       "  159186814082644533247: {(3, 1): -58.64999999999999},\n",
       "  19541071689449954344959: {(5, 1): -193.65},\n",
       "  21902254930954033299455: {(4, 1): -193.65},\n",
       "  26624621416023775510527: {(4, 1): -193.65},\n",
       "  631087531223475868925951: {(1, 1): -193.65},\n",
       "  152486302261912091519: {(3, 1): -49.51499999999999}},\n",
       " 2: {18927717448432035954687: {(2, 2): -193.65},\n",
       "  18932329135000220205055: {(3, 2): -193.65},\n",
       "  19522624945359060205567: {(0, 2): -193.65},\n",
       "  19596411921671095058431: {(3, 2): -193.65},\n",
       "  19614858665746956287999: {(1, 2): -193.65},\n",
       "  4398046511105: {(2, 2): -148.65},\n",
       "  9011597301254161: {(1, 2): -148.65},\n",
       "  9020393394276403: {(4, 2): -148.65},\n",
       "  9055577766365247: {(1, 2): -148.65, (2, 2): -148.65},\n",
       "  2314898586980587583: {(3, 2): -148.65},\n",
       "  2317150386794274367: {(2, 2): -148.65},\n",
       "  149891102976504503871: {(6, 2): -193.65},\n",
       "  149891384451481214719: {(2, 2): -193.65},\n",
       "  149892510355683024895: {(0, 2): -193.65},\n",
       "  21976041907182316290047: {(1, 2): -193.65},\n",
       "  10181477673470271: {(0, 2): -148.65},\n",
       "  147584134067383437695: {(0, 2): -148.65},\n",
       "  147586385867197131647: {(1, 2): -193.65},\n",
       "  147586948817150557183: {(6, 2): -193.65},\n",
       "  152198634835579010047: {(0, 2): -193.65},\n",
       "  75710062360767216516095: {(5, 2): -193.65},\n",
       "  75728509104840930294783: {(2, 2): -193.65},\n",
       "  2493580148334653330488319: {(4, 2): -193.65},\n",
       "  2493582454177662544772095: {(5, 2): -193.65},\n",
       "  12164989011096895502547967: {(4, 2): -193.65},\n",
       "  147874616243348913023: {(1, 2): -193.65},\n",
       "  149963160570542448319: {(5, 2): -193.65},\n",
       "  149963442045519159295: {(4, 2): -193.65},\n",
       "  159186814082376097791: {(6, 2): -193.65},\n",
       "  19541071689449953820671: {(1, 2): -193.65},\n",
       "  21902254930885313822719: {(5, 2): -193.65},\n",
       "  26624621413824752254975: {(0, 2): -193.65},\n",
       "  631087531223475801817087: {(1, 2): -193.65},\n",
       "  668866463086441620570111: {(3, 2): -58.64999999999999},\n",
       "  152486302261777873791: {(0, 2): -193.65}}}"
      ]
     },
     "execution_count": 10,
     "metadata": {},
     "output_type": "execute_result"
    }
   ],
   "source": [
    "q_tab = strategy_tabq_con4.q_tab\n",
    "q_tab"
   ]
  },
  {
   "cell_type": "code",
   "execution_count": 15,
   "metadata": {},
   "outputs": [
    {
     "name": "stdout",
     "output_type": "stream",
     "text": [
      "dict_values([{(2, 1): -193.65}, {(0, 1): -193.65}, {(0, 1): -193.65}, {(3, 1): -193.65, (5, 1): -193.65}, {(5, 1): -193.65}, {(4, 1): -58.64999999999999, (5, 1): -193.65}, {(6, 1): -148.65}, {(2, 1): -148.65}, {(5, 1): -148.65}, {(3, 1): -147.31215}, {(1, 1): -148.65}, {(4, 1): -148.65}, {(2, 1): -193.65}, {(0, 1): -193.65, (6, 1): -193.65}, {(5, 1): -193.65, (3, 1): -58.64999999999999}, {(3, 1): -58.64999999999999}, {(4, 1): -58.64999999999999}, {(5, 1): -148.65}, {(2, 1): -148.65}, {(4, 1): -148.65}, {(6, 1): -148.65, (4, 1): -148.65}, {(0, 1): -148.65}, {(0, 1): -148.65}, {(5, 1): -148.65}, {(2, 1): -148.65}, {(1, 1): -148.65}, {(0, 1): -148.65}, {(3, 1): -58.64999999999999}, {(3, 1): -58.64999999999999, (0, 1): -193.65}, {(0, 1): -193.65}, {(6, 1): -193.65}, {(3, 1): -58.64999999999999}, {(5, 1): -193.65}, {(4, 1): -193.65}, {(4, 1): -193.65}, {(1, 1): -193.65}, {(3, 1): -49.51499999999999}])\n"
     ]
    }
   ],
   "source": [
    "for player_state in q_tab.values():\n",
    "    state_actions = player_state.values()\n",
    "    num_moves += len(state_actions)"
   ]
  },
  {
   "cell_type": "code",
   "execution_count": 276,
   "metadata": {},
   "outputs": [],
   "source": [
    "# # Testing function learn(...)\n",
    "\n",
    "# strategy_tabq_con4.learn(\n",
    "#     max_episodes=1e3,\n",
    "#     discount_factor=0.99, # gamma\n",
    "#     learning_rate=0.9, # learning rate\n",
    "#     is_player1=True,\n",
    "#     start_board=board_test_con4_int\n",
    "# )\n",
    "\n",
    "# strategy_tabq_con4.learn(\n",
    "#     max_episodes=1e3,\n",
    "#     discount_factor=0.99, # gamma\n",
    "#     learning_rate=0.9, # learning rate\n",
    "#     is_player1=False\n",
    "# )\n",
    "\n",
    "# # [OK]"
   ]
  },
  {
   "cell_type": "code",
   "execution_count": 278,
   "metadata": {},
   "outputs": [],
   "source": [
    "# # Check values associated with a certain state.\n",
    "# strategy_tabq_con4.q_tab[1][\n",
    "#     board_test_con4_int\n",
    "# ]\n",
    "# strategy_tabq_con4.get_move(\n",
    "#     board_test_con4, is_player1=is_player1\n",
    "# )"
   ]
  },
  {
   "cell_type": "code",
   "execution_count": 281,
   "metadata": {},
   "outputs": [],
   "source": [
    "# # Test save_qtab(...)\n",
    "# strategy_tabq_con4.save_qtab(\n",
    "#     name=\"test\", \n",
    "#     folder=\"__q_tables\"\n",
    "# )\n",
    "# # [OK]"
   ]
  },
  {
   "cell_type": "code",
   "execution_count": 282,
   "metadata": {},
   "outputs": [],
   "source": [
    "# # Test load_qtab(...)\n",
    "# strategy_tabq_con4.load_qtab(\n",
    "#     src=\"__q_tables/test.json\", \n",
    "# )\n",
    "# # [OK]"
   ]
  }
 ],
 "metadata": {
  "kernelspec": {
   "display_name": "tttcon4",
   "language": "python",
   "name": "python3"
  },
  "language_info": {
   "codemirror_mode": {
    "name": "ipython",
    "version": 3
   },
   "file_extension": ".py",
   "mimetype": "text/x-python",
   "name": "python",
   "nbconvert_exporter": "python",
   "pygments_lexer": "ipython3",
   "version": "3.12.2"
  }
 },
 "nbformat": 4,
 "nbformat_minor": 2
}
