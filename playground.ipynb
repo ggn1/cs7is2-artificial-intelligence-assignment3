{
 "cells": [
  {
   "cell_type": "markdown",
   "metadata": {},
   "source": [
    "# Playground"
   ]
  },
  {
   "cell_type": "markdown",
   "metadata": {},
   "source": [
    "This is a space for experimentation."
   ]
  },
  {
   "cell_type": "code",
   "execution_count": 2,
   "metadata": {},
   "outputs": [],
   "source": [
    "import random\n",
    "import itertools\n",
    "import numpy as np\n",
    "from player import Player\n",
    "from minimax import MiniMax\n",
    "from datetime import datetime\n",
    "from utility import int2board\n",
    "from utility import board2int\n",
    "from connect4 import WorldCon4\n",
    "from tic_tac_toe import WorldTTT\n",
    "from utility import board_to_str\n",
    "from strategies import StrategyTabQLearning\n",
    "\n",
    "%load_ext autoreload\n",
    "%autoreload 2"
   ]
  },
  {
   "cell_type": "markdown",
   "metadata": {},
   "source": [
    "## Tic Tac Toe"
   ]
  },
  {
   "cell_type": "markdown",
   "metadata": {},
   "source": [
    "### Check World Implementation"
   ]
  },
  {
   "cell_type": "code",
   "execution_count": 22,
   "metadata": {},
   "outputs": [],
   "source": [
    "world_ttt = WorldTTT(\n",
    "    name=\"ttt\", board_size=(3, 3), \n",
    "    player1sym='X', player2sym='O'\n",
    ")"
   ]
  },
  {
   "cell_type": "code",
   "execution_count": 34,
   "metadata": {},
   "outputs": [
    {
     "name": "stdout",
     "output_type": "stream",
     "text": [
      "# X X\n",
      "# O O\n",
      "X O #\n",
      "\n"
     ]
    }
   ],
   "source": [
    "board_test_ttt = np.array([\n",
    "    [-1, 1, 1],\n",
    "    [-1, 0, 0],\n",
    "    [1, 0, -1]\n",
    "])\n",
    "board_test_ttt_int = board2int(board_test_ttt)\n",
    "is_player1 = True\n",
    "is_my_turn_next = True\n",
    "action = ((2, 2), 1)\n",
    "print(board_to_str(board_test_ttt, 'X', 'O'))"
   ]
  },
  {
   "cell_type": "code",
   "execution_count": 52,
   "metadata": {},
   "outputs": [],
   "source": [
    "# # Test function get_actions(...)\n",
    "# world_ttt.get_actions(is_player1)\n",
    "# # [OK]"
   ]
  },
  {
   "cell_type": "code",
   "execution_count": 32,
   "metadata": {},
   "outputs": [],
   "source": [
    "# # Test function is_valid(...)\n",
    "# world_ttt.is_valid(board_test_ttt, is_player1)\n",
    "# # [OK]"
   ]
  },
  {
   "cell_type": "code",
   "execution_count": 59,
   "metadata": {},
   "outputs": [],
   "source": [
    "# # Test function is_legal(...)\n",
    "# world_ttt.is_legal(board_test_ttt, ((0, 0), 1))\n",
    "# # [OK]"
   ]
  },
  {
   "cell_type": "code",
   "execution_count": 77,
   "metadata": {},
   "outputs": [],
   "source": [
    "# # Test get_next_state(...)\n",
    "# next_state = world_ttt.get_next_state(board_test_ttt, action)\n",
    "# print(\"Next State =\", next_state)\n",
    "# if not next_state == -1:\n",
    "#     print(\"=\", int2board(next_state, world_ttt.board.shape))\n",
    "# # [OK]"
   ]
  },
  {
   "cell_type": "code",
   "execution_count": 88,
   "metadata": {},
   "outputs": [],
   "source": [
    "# # Test state_eval(...)\n",
    "# world_ttt.state_eval(board_test_ttt, is_my_turn_next)\n",
    "# # [OK]"
   ]
  },
  {
   "cell_type": "code",
   "execution_count": 41,
   "metadata": {},
   "outputs": [],
   "source": [
    "# # Test get_next_states(...)\n",
    "# for s_num in world_ttt.get_next_states(\n",
    "#     board_test_ttt, \n",
    "#     is_player1\n",
    "# ): print(int2board(s_num[0], world_ttt.board.shape), '\\n')\n",
    "# # [OK]"
   ]
  },
  {
   "cell_type": "code",
   "execution_count": 1,
   "metadata": {},
   "outputs": [],
   "source": [
    "# # Test get_reward(...)\n",
    "# world_ttt.get_reward(board_test_ttt, action)\n",
    "# # [OK]"
   ]
  },
  {
   "cell_type": "code",
   "execution_count": 96,
   "metadata": {},
   "outputs": [],
   "source": [
    "# # Test is_winner(...)\n",
    "# world_ttt.is_winner(board_test_ttt)\n",
    "# # [OK]"
   ]
  },
  {
   "cell_type": "code",
   "execution_count": 78,
   "metadata": {},
   "outputs": [],
   "source": [
    "# # Testing get_start_states(...)\n",
    "# world_ttt.get_start_states(is_player1=True)\n",
    "# # [OK]"
   ]
  },
  {
   "cell_type": "code",
   "execution_count": 83,
   "metadata": {},
   "outputs": [],
   "source": [
    "# # Testing is_game_over(...).\n",
    "# world_ttt.is_game_over(0)\n",
    "# # [OK]"
   ]
  },
  {
   "cell_type": "markdown",
   "metadata": {},
   "source": [
    "### Check Q Learning Implementation"
   ]
  },
  {
   "cell_type": "code",
   "execution_count": 235,
   "metadata": {},
   "outputs": [],
   "source": [
    "strategy_tabq = StrategyTabQLearning(\n",
    "    get_reward=world_ttt.get_reward,\n",
    "    is_game_over=world_ttt.is_game_over,\n",
    "    get_next_states=world_ttt.get_next_states,\n",
    "    get_next_state=world_ttt.get_next_state,\n",
    "    get_actions=world_ttt.get_actions,\n",
    "    get_start_states=world_ttt.get_start_states,\n",
    "    board_shape=world_ttt.board.shape\n",
    ") # Player 1 tabular Q learning strategy TTT."
   ]
  },
  {
   "cell_type": "code",
   "execution_count": 146,
   "metadata": {},
   "outputs": [],
   "source": [
    "# # Testing function get_move(...)\n",
    "# strategy_tabq.get_move(\n",
    "#     board=board_test_ttt,\n",
    "#     is_player1=is_player1\n",
    "# )\n",
    "# # [OK]"
   ]
  },
  {
   "cell_type": "code",
   "execution_count": 236,
   "metadata": {},
   "outputs": [
    {
     "name": "stdout",
     "output_type": "stream",
     "text": [
      "Learning (Starting Player = 1) ...\n",
      "Max episodes reached.\n",
      "All done. Episodes = 100000.\n",
      "Learning (Starting Player = 2) ...\n",
      "Max episodes reached.\n",
      "All done. Episodes = 100000.\n"
     ]
    }
   ],
   "source": [
    "# Testing function learn(...)\n",
    "\n",
    "strategy_tabq.learn(\n",
    "    max_episodes=1e4,\n",
    "    discount_factor=0.99, # gamma\n",
    "    learning_rate=0.9, # learning rate\n",
    "    is_player1=True\n",
    ")\n",
    "\n",
    "strategy_tabq.learn(\n",
    "    max_episodes=1e4,\n",
    "    discount_factor=0.99, # gamma\n",
    "    learning_rate=0.9, # learning rate\n",
    "    is_player1=False\n",
    ")"
   ]
  },
  {
   "cell_type": "code",
   "execution_count": 237,
   "metadata": {},
   "outputs": [
    {
     "name": "stdout",
     "output_type": "stream",
     "text": [
      "known player 1 states =  2422\n",
      "known player 2 states =  2092\n",
      "known states =  4514\n"
     ]
    }
   ],
   "source": [
    "print(\"known player 1 states = \", len(strategy_tabq.q_tab[1]))\n",
    "print(\"known player 2 states = \", len(strategy_tabq.q_tab[2]))\n",
    "print(\"known states = \", len(strategy_tabq.q_tab[1]) + len(strategy_tabq.q_tab[2]))"
   ]
  },
  {
   "cell_type": "code",
   "execution_count": 251,
   "metadata": {},
   "outputs": [
    {
     "data": {
      "text/plain": [
       "array([[ 1,  1,  0],\n",
       "       [ 0,  0, -1],\n",
       "       [ 1,  1, -1]])"
      ]
     },
     "execution_count": 251,
     "metadata": {},
     "output_type": "execute_result"
    }
   ],
   "source": [
    "board_test_ttt = np.array([\n",
    "    [1, 1, 0],\n",
    "    [0, 0, -1],\n",
    "    [1, 1, -1]\n",
    "])\n",
    "board_test_ttt_int = board2int(board_test_ttt)\n",
    "is_player1 = False\n",
    "is_my_turn_next = True\n",
    "action = ((1, 0), 1)\n",
    "board_test_ttt"
   ]
  },
  {
   "cell_type": "code",
   "execution_count": 252,
   "metadata": {},
   "outputs": [
    {
     "data": {
      "text/plain": [
       "{((2, 2), 2): -142.015, ((1, 2), 2): -138.5}"
      ]
     },
     "execution_count": 252,
     "metadata": {},
     "output_type": "execute_result"
    }
   ],
   "source": [
    "strategy_tabq.q_tab[2][board_test_ttt_int]"
   ]
  },
  {
   "cell_type": "code",
   "execution_count": 250,
   "metadata": {},
   "outputs": [
    {
     "data": {
      "text/plain": [
       "{'f_out': (2, 2), 'seconds': 0.0}"
      ]
     },
     "execution_count": 250,
     "metadata": {},
     "output_type": "execute_result"
    }
   ],
   "source": [
    "strategy_tabq.get_move(board=board_test_ttt, is_player1=is_player1)"
   ]
  },
  {
   "cell_type": "markdown",
   "metadata": {},
   "source": [
    "## Connect 4"
   ]
  },
  {
   "cell_type": "markdown",
   "metadata": {},
   "source": [
    "### Check World Implementation"
   ]
  },
  {
   "cell_type": "code",
   "execution_count": 4,
   "metadata": {},
   "outputs": [],
   "source": [
    "word_con4 = WorldCon4(\n",
    "    name=\"CON4\", board_size=(6, 7), \n",
    "    player1sym='R', player2sym='Y'\n",
    ")"
   ]
  },
  {
   "cell_type": "code",
   "execution_count": 58,
   "metadata": {},
   "outputs": [
    {
     "name": "stdout",
     "output_type": "stream",
     "text": [
      "# # # # # # #\n",
      "# # # # # # #\n",
      "# # # # # # #\n",
      "# # # # R Y #\n",
      "# # # # R Y #\n",
      "# # # # R Y #\n",
      "\n"
     ]
    }
   ],
   "source": [
    "board_test_con4 = np.array([\n",
    "    [-1, -1, -1, -1, -1, -1, -1],\n",
    "    [-1, -1, -1, -1, -1, -1, -1],\n",
    "    [-1, -1, -1, -1, -1, -1, -1],\n",
    "    [-1, -1, -1, -1,  1,  0, -1],\n",
    "    [-1, -1, -1, -1,  1,  0, -1],\n",
    "    [-1, -1, -1,  -1,  1,  0, -1],\n",
    "])\n",
    "board_test_con4_int = board2int(board_test_con4)\n",
    "is_player1 = True\n",
    "is_my_turn_next = True\n",
    "action = ((2, 2), 1)\n",
    "print(board_to_str(\n",
    "    board_test_con4, \n",
    "    word_con4.player_symbols[1], \n",
    "    word_con4.player_symbols[2]\n",
    "))"
   ]
  },
  {
   "cell_type": "code",
   "execution_count": 306,
   "metadata": {},
   "outputs": [],
   "source": [
    "# # Test get_actions(...)\n",
    "# print(\"Player 1 Actions =\", word_con4.get_actions(is_player1=True))\n",
    "# print(\"Player 2 Actions =\", word_con4.get_actions(is_player1=False))\n",
    "# # [OK]"
   ]
  },
  {
   "cell_type": "code",
   "execution_count": 46,
   "metadata": {},
   "outputs": [],
   "source": [
    "# # Test is_legal(...)\n",
    "# word_con4.is_legal(board_test_con4, action=(6, 2))\n",
    "# # [OK]"
   ]
  },
  {
   "cell_type": "code",
   "execution_count": 45,
   "metadata": {},
   "outputs": [],
   "source": [
    "# # Test is_valid(...)\n",
    "# word_con4.is_valid(board_test_con4, is_player1=True)\n",
    "# # [OK]"
   ]
  },
  {
   "cell_type": "code",
   "execution_count": 51,
   "metadata": {},
   "outputs": [],
   "source": [
    "# # Test is_winner(...)\n",
    "# word_con4.is_winner(board_test_con4)\n",
    "# # [OK]"
   ]
  },
  {
   "cell_type": "code",
   "execution_count": 61,
   "metadata": {},
   "outputs": [
    {
     "data": {
      "text/plain": [
       "18737243841865286406"
      ]
     },
     "execution_count": 61,
     "metadata": {},
     "output_type": "execute_result"
    }
   ],
   "source": [
    "# # Test get_next_state(...)\n",
    "# word_con4.get_next_state(board_test_con4, (5, 1))\n",
    "# # [OK]"
   ]
  },
  {
   "cell_type": "code",
   "execution_count": null,
   "metadata": {},
   "outputs": [],
   "source": []
  }
 ],
 "metadata": {
  "kernelspec": {
   "display_name": "tttcon4",
   "language": "python",
   "name": "python3"
  },
  "language_info": {
   "codemirror_mode": {
    "name": "ipython",
    "version": 3
   },
   "file_extension": ".py",
   "mimetype": "text/x-python",
   "name": "python",
   "nbconvert_exporter": "python",
   "pygments_lexer": "ipython3",
   "version": "3.12.2"
  }
 },
 "nbformat": 4,
 "nbformat_minor": 2
}
