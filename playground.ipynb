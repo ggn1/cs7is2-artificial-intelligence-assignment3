{
 "cells": [
  {
   "cell_type": "markdown",
   "metadata": {},
   "source": [
    "# Playground"
   ]
  },
  {
   "cell_type": "markdown",
   "metadata": {},
   "source": [
    "This is a space for experimentation."
   ]
  },
  {
   "cell_type": "code",
   "execution_count": 128,
   "metadata": {},
   "outputs": [
    {
     "name": "stdout",
     "output_type": "stream",
     "text": [
      "The autoreload extension is already loaded. To reload it, use:\n",
      "  %reload_ext autoreload\n"
     ]
    }
   ],
   "source": [
    "import itertools\n",
    "import numpy as np\n",
    "from utility import *\n",
    "from typing import List\n",
    "from tic_tac_toe import WorldTTT\n",
    "\n",
    "%load_ext autoreload\n",
    "%autoreload 2"
   ]
  },
  {
   "cell_type": "code",
   "execution_count": 129,
   "metadata": {},
   "outputs": [],
   "source": [
    "world_ttt = WorldTTT()"
   ]
  },
  {
   "cell_type": "code",
   "execution_count": 125,
   "metadata": {},
   "outputs": [],
   "source": [
    "s = (('X', 'X', ' '),(' ', ' ', 'O'),(' ', ' ', ' '))"
   ]
  },
  {
   "cell_type": "code",
   "execution_count": 141,
   "metadata": {},
   "outputs": [
    {
     "data": {
      "text/plain": [
       "1.0"
      ]
     },
     "execution_count": 141,
     "metadata": {},
     "output_type": "execute_result"
    }
   ],
   "source": [
    "world_ttt.state_eval(state=s, sym='O', is_my_turn_next=True)"
   ]
  },
  {
   "cell_type": "code",
   "execution_count": 123,
   "metadata": {},
   "outputs": [
    {
     "data": {
      "text/plain": [
       "2.0"
      ]
     },
     "execution_count": 123,
     "metadata": {},
     "output_type": "execute_result"
    }
   ],
   "source": [
    "l = [1,2,3]\n",
    "np.mean(l)"
   ]
  },
  {
   "cell_type": "code",
   "execution_count": 120,
   "metadata": {},
   "outputs": [
    {
     "name": "stdout",
     "output_type": "stream",
     "text": [
      "['X' ' ' ' ']\n",
      "['X' ' ' ' ']\n",
      "[' ' 'O' ' ']\n"
     ]
    }
   ],
   "source": [
    "for col in l.T:\n",
    "    print(col)"
   ]
  },
  {
   "cell_type": "code",
   "execution_count": 121,
   "metadata": {},
   "outputs": [
    {
     "data": {
      "text/plain": [
       "array(['X', ' ', ' '], dtype='<U1')"
      ]
     },
     "execution_count": 121,
     "metadata": {},
     "output_type": "execute_result"
    }
   ],
   "source": [
    "np.diag(l)"
   ]
  },
  {
   "cell_type": "code",
   "execution_count": 113,
   "metadata": {},
   "outputs": [
    {
     "data": {
      "text/plain": [
       "(False, None)"
      ]
     },
     "execution_count": 113,
     "metadata": {},
     "output_type": "execute_result"
    }
   ],
   "source": [
    "ttt.get_next_state(\n",
    "    state = (('X', 'X', ' '),(' ', ' ', 'O'),(' ', ' ', ' ')), \n",
    "    sym='O',\n",
    "    action=(0, 0)\n",
    ")"
   ]
  },
  {
   "cell_type": "code",
   "execution_count": 47,
   "metadata": {},
   "outputs": [],
   "source": [
    "def is_winner(state:List[str], sym:int) -> bool:\n",
    "    \"\"\" \n",
    "    Check if rows, columns or diagonals contain\n",
    "    3 given symbols in a row.\n",
    "    @param state: Given state of the game board.\n",
    "    @param sym: Symbol to check wins for.\n",
    "    @return: True if given player as one and false\n",
    "             otherwise.\n",
    "    \"\"\"\n",
    "    # Check if at least one row or columns contains\n",
    "    # the winning combination of 3 symbols.\n",
    "    for i in range(3):\n",
    "        if all(state[i][j] == sym for j in range(3)):\n",
    "            return True\n",
    "        if all(state[j][i] == sym for j in range(3)):\n",
    "            return True\n",
    "    # Check if the diagonal contains the\n",
    "    # winning combination of 3 symbols.\n",
    "    if all(state[i][i] == sym for i in range(3)):\n",
    "        return True\n",
    "    # Check if the anti diagonal contains the\n",
    "    # winning combination of 3 symbols.\n",
    "    return all(state[i][2-i] == sym for i in range(3))"
   ]
  },
  {
   "cell_type": "code",
   "execution_count": 59,
   "metadata": {},
   "outputs": [],
   "source": [
    "states = []\n",
    "for state in itertools.product([1, 0, -1], repeat=9):\n",
    "    # Reshape the state into a 3x3 matrix\n",
    "    state_matrix = [state[i:i+3] for i in range(0, 9, 3)]\n",
    "    if is_legal_state(state_matrix): # Consider state if it's legal.\n",
    "        states.append(state_matrix)"
   ]
  },
  {
   "cell_type": "code",
   "execution_count": 60,
   "metadata": {},
   "outputs": [
    {
     "data": {
      "text/plain": [
       "5478"
      ]
     },
     "execution_count": 60,
     "metadata": {},
     "output_type": "execute_result"
    }
   ],
   "source": [
    "len(states)"
   ]
  },
  {
   "cell_type": "code",
   "execution_count": 58,
   "metadata": {},
   "outputs": [],
   "source": [
    "def is_legal_state(state:List[int]) -> bool:\n",
    "    \"\"\" \n",
    "    Checks if given state is valid.\n",
    "    @param state: State to be checked. Expected\n",
    "                  format is [\n",
    "                    [<int>, <int>, <int>], \n",
    "                    [<int>, <int>, <int>], \n",
    "                    [<int>, <int>, <int>]\n",
    "                  ] where <int> may be 1 => me,\n",
    "                  0 => opponent and -1 => empty.\n",
    "    @return: Whether or not this state is valid.\n",
    "    Reference: https://algo.monster/liteproblems/794\n",
    "    \"\"\"\n",
    "    is_legal = True\n",
    "\n",
    "    # Count the number of 'me's and 'opponent's on the board.\n",
    "    count_me = sum(row.count(1) for row in state)\n",
    "    count_opp = sum(row.count(0) for row in state)\n",
    "\n",
    "    # Check for the correct number of 'me's and 'opponent's.\n",
    "    if count_me != count_opp and count_me-1 != count_opp:\n",
    "        return False\n",
    "\n",
    "    # If 'me' has won, 'me's must be one more than 'opponent's.\n",
    "    if is_winner(state, 1) and count_me-1 != count_opp:\n",
    "        return False\n",
    "\n",
    "    # If 'opponent' has won, the count of 'me's and \n",
    "    # 'opponent's must be the same.\n",
    "    if is_winner(state, 0) and count_me != count_opp:\n",
    "        return False\n",
    "    \n",
    "    # The board is valid if it does not violate any \n",
    "    # of the above rules.\n",
    "    return True"
   ]
  }
 ],
 "metadata": {
  "kernelspec": {
   "display_name": "tttcon4",
   "language": "python",
   "name": "python3"
  },
  "language_info": {
   "codemirror_mode": {
    "name": "ipython",
    "version": 3
   },
   "file_extension": ".py",
   "mimetype": "text/x-python",
   "name": "python",
   "nbconvert_exporter": "python",
   "pygments_lexer": "ipython3",
   "version": "3.12.2"
  }
 },
 "nbformat": 4,
 "nbformat_minor": 2
}
