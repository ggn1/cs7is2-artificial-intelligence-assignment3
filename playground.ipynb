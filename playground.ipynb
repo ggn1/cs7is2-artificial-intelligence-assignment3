{
 "cells": [
  {
   "cell_type": "markdown",
   "metadata": {},
   "source": [
    "# Playground"
   ]
  },
  {
   "cell_type": "markdown",
   "metadata": {},
   "source": [
    "This is a space for experimentation."
   ]
  },
  {
   "cell_type": "code",
   "execution_count": 48,
   "metadata": {},
   "outputs": [
    {
     "name": "stdout",
     "output_type": "stream",
     "text": [
      "The autoreload extension is already loaded. To reload it, use:\n",
      "  %reload_ext autoreload\n"
     ]
    }
   ],
   "source": [
    "import random\n",
    "import itertools\n",
    "import numpy as np\n",
    "from player import Player\n",
    "from minimax import MiniMax\n",
    "from datetime import datetime\n",
    "from utility import int2board\n",
    "from utility import board2int\n",
    "from tic_tac_toe import WorldTTT\n",
    "from strategies import StrategyTabQLearning\n",
    "\n",
    "%load_ext autoreload\n",
    "%autoreload 2"
   ]
  },
  {
   "cell_type": "markdown",
   "metadata": {},
   "source": [
    "## Tic Tac Toe"
   ]
  },
  {
   "cell_type": "markdown",
   "metadata": {},
   "source": [
    "### Check World Implementation"
   ]
  },
  {
   "cell_type": "code",
   "execution_count": 2,
   "metadata": {},
   "outputs": [],
   "source": [
    "world_ttt = WorldTTT(\n",
    "    name=\"ttt\", board_size=(3, 3), \n",
    "    player1sym='X', player2sym='O'\n",
    ")"
   ]
  },
  {
   "cell_type": "code",
   "execution_count": 14,
   "metadata": {},
   "outputs": [
    {
     "data": {
      "text/plain": [
       "array([[ 1,  0,  1],\n",
       "       [-1,  0,  0],\n",
       "       [ 1,  1,  0]])"
      ]
     },
     "execution_count": 14,
     "metadata": {},
     "output_type": "execute_result"
    }
   ],
   "source": [
    "board_test_ttt = np.array([\n",
    "    [1, 0, 1],\n",
    "    [-1, 0, 0],\n",
    "    [1, 1, 0]\n",
    "])\n",
    "is_player1 = True\n",
    "is_my_turn_next = True\n",
    "action = ((1, 0), 1)\n",
    "board_test_ttt"
   ]
  },
  {
   "cell_type": "code",
   "execution_count": 52,
   "metadata": {},
   "outputs": [],
   "source": [
    "# # Test function get_actions(...)\n",
    "# world_ttt.get_actions(is_player1)\n",
    "# # [OK]"
   ]
  },
  {
   "cell_type": "code",
   "execution_count": 83,
   "metadata": {},
   "outputs": [],
   "source": [
    "# # Test function is_valid(...)\n",
    "# world_ttt.is_valid(board_test_ttt, is_player1)\n",
    "# # [OK]"
   ]
  },
  {
   "cell_type": "code",
   "execution_count": 59,
   "metadata": {},
   "outputs": [],
   "source": [
    "# # Test function is_legal(...)\n",
    "# world_ttt.is_legal(board_test_ttt, ((0, 0), 1))\n",
    "# # [OK]"
   ]
  },
  {
   "cell_type": "code",
   "execution_count": 77,
   "metadata": {},
   "outputs": [],
   "source": [
    "# # Test get_next_state(...)\n",
    "# next_state = world_ttt.get_next_state(board_test_ttt, action)\n",
    "# print(\"Next State =\", next_state)\n",
    "# if not next_state == -1:\n",
    "#     print(\"=\", int2board(next_state, world_ttt.board.shape))\n",
    "# # [OK]"
   ]
  },
  {
   "cell_type": "code",
   "execution_count": 88,
   "metadata": {},
   "outputs": [],
   "source": [
    "# # Test state_eval(...)\n",
    "# world_ttt.state_eval(board_test_ttt, is_my_turn_next)\n",
    "# # [OK]"
   ]
  },
  {
   "cell_type": "code",
   "execution_count": 41,
   "metadata": {},
   "outputs": [],
   "source": [
    "# # Test get_next_states(...)\n",
    "# for s_num in world_ttt.get_next_states(\n",
    "#     board_test_ttt, \n",
    "#     is_player1\n",
    "# ): print(int2board(s_num[0], world_ttt.board.shape), '\\n')\n",
    "# # [OK]"
   ]
  },
  {
   "cell_type": "code",
   "execution_count": 113,
   "metadata": {},
   "outputs": [],
   "source": [
    "# # Test get_reward(...)\n",
    "# world_ttt.get_reward(board_test_ttt, action)\n",
    "# # [OK]"
   ]
  },
  {
   "cell_type": "code",
   "execution_count": 96,
   "metadata": {},
   "outputs": [],
   "source": [
    "# # Test is_winner(...)\n",
    "# world_ttt.is_winner(board_test_ttt)\n",
    "# # [OK]"
   ]
  },
  {
   "cell_type": "markdown",
   "metadata": {},
   "source": [
    "### Check Q Learning Implementation"
   ]
  },
  {
   "cell_type": "code",
   "execution_count": 49,
   "metadata": {},
   "outputs": [],
   "source": [
    "strategy_tabq = StrategyTabQLearning(\n",
    "    get_reward=world_ttt.get_reward,\n",
    "    is_game_over=world_ttt.is_game_over,\n",
    "    get_next_states=world_ttt.get_next_states,\n",
    "    get_next_state=world_ttt.get_next_state,\n",
    "    get_actions=world_ttt.get_actions,\n",
    "    get_start_states=world_ttt.get_start_states,\n",
    "    board_shape=world_ttt.board.shape\n",
    ") # Player 1 tabular Q learning strategy TTT."
   ]
  },
  {
   "cell_type": "code",
   "execution_count": 54,
   "metadata": {},
   "outputs": [
    {
     "data": {
      "text/plain": [
       "{'f_out': (1, 0), 'seconds': 0.0}"
      ]
     },
     "execution_count": 54,
     "metadata": {},
     "output_type": "execute_result"
    }
   ],
   "source": [
    "strategy_tabq.get_move(\n",
    "    board=board_test_ttt,\n",
    "    is_player1=is_player1\n",
    ")"
   ]
  }
 ],
 "metadata": {
  "kernelspec": {
   "display_name": "tttcon4",
   "language": "python",
   "name": "python3"
  },
  "language_info": {
   "codemirror_mode": {
    "name": "ipython",
    "version": 3
   },
   "file_extension": ".py",
   "mimetype": "text/x-python",
   "name": "python",
   "nbconvert_exporter": "python",
   "pygments_lexer": "ipython3",
   "version": "3.12.2"
  }
 },
 "nbformat": 4,
 "nbformat_minor": 2
}
